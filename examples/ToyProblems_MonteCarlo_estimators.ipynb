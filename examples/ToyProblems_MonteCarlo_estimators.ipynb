{
 "cells": [
  {
   "cell_type": "code",
   "execution_count": null,
   "metadata": {},
   "outputs": [],
   "source": [
    "import torch\n",
    "import torch.optim as optim\n",
    "from torch.distributions.multivariate_normal import MultivariateNormal\n",
    "\n",
    "# Custom imports\n",
    "import os,sys,inspect\n",
    "currentdir = os.path.dirname(os.path.abspath(inspect.getfile(inspect.currentframe())))\n",
    "sys.path.insert(0, os.path.dirname(currentdir))\n",
    "from simulators import get_simulator\n",
    "from ml.real_nvps import RealNVP, RealNVPs\n",
    "from ml.umnn_maf_flow import UmnnMafFlow\n",
    "from ml.ml_helper import fit_conditional_normalizing_flow\n",
    "from metrics.metrics import compute_roc_auc\n",
    "from inference.neb import McBiasedEstimator, McUnbiasedEstimator\n",
    "from utils.noise_distribution import GaussianDistribution"
   ]
  },
  {
   "cell_type": "code",
   "execution_count": null,
   "metadata": {},
   "outputs": [],
   "source": [
    "device = 'cuda'"
   ]
  },
  {
   "cell_type": "markdown",
   "metadata": {},
   "source": [
    "# Define your simulator"
   ]
  },
  {
   "cell_type": "code",
   "execution_count": null,
   "metadata": {},
   "outputs": [],
   "source": [
    "simulator_name = 'SLCP' # Choose a simulator in ['SLCP', 'IK', '2dMoon']\n",
    "simulator = get_simulator(simulator_name)"
   ]
  },
  {
   "cell_type": "markdown",
   "metadata": {},
   "source": [
    "# Train a surrogate model of the simulator \n",
    "#### (needed when no likelihood function is known in closed-form)"
   ]
  },
  {
   "cell_type": "code",
   "execution_count": null,
   "metadata": {},
   "outputs": [],
   "source": [
    "# Generate the training dataset\n",
    "dataset_size = 15000\n",
    "proposal_distribution = MultivariateNormal(torch.zeros(dataset_size, simulator.xdim), torch.eye(simulator.xdim))\n",
    "x_train = proposal_distribution.sample()\n",
    "y_train = simulator.corrupt(x_train)\n",
    "\n",
    "# Train the surrogate model\n",
    "flow_length = 4\n",
    "hidden_layer_dim = 50\n",
    "\n",
    "surrogate = RealNVPs(flow_length, simulator.ydim, simulator.xdim, hidden_layer_dim).to(device)\n",
    "optimizer = optim.Adam(surrogate.parameters(), weight_decay=5*10**(-5), lr=1e-4)\n",
    "\n",
    "training_loss, validation_loss = fit_conditional_normalizing_flow(surrogate, \n",
    "                                                                  optimizer, \n",
    "                                                                  y_train.to(device), \n",
    "                                                                  x_train.to(device), \n",
    "                                                                  validation_size=0.1, \n",
    "                                                                  early_stopping_patience=10,\n",
    "                                                                  batch_size=128, \n",
    "                                                                  nb_epochs=300)\n",
    "surrogate.eval();"
   ]
  },
  {
   "cell_type": "markdown",
   "metadata": {},
   "source": [
    "#### Assess the quality of the surrogate model (the closer to 0.5, the better)"
   ]
  },
  {
   "cell_type": "code",
   "execution_count": null,
   "metadata": {},
   "outputs": [],
   "source": [
    "source_data = proposal_distribution.sample()\n",
    "true_y = simulator.corrupt(source_data)\n",
    "\n",
    "noise = GaussianDistribution.sample(dataset_size, dim=simulator.ydim)\n",
    "regenerated_y = surrogate.invert(noise.to(device), context=source_data.to(device))\n",
    "\n",
    "print('ROC AUC:', compute_roc_auc(true_y.data.numpy(), regenerated_y.data.cpu().numpy()))"
   ]
  },
  {
   "cell_type": "markdown",
   "metadata": {},
   "source": [
    "# Source Distribution Estimation "
   ]
  },
  {
   "cell_type": "code",
   "execution_count": null,
   "metadata": {},
   "outputs": [],
   "source": [
    "# Unseen source distribution\n",
    "source_distribution = simulator.sample_prior(10000)\n",
    "# Observations\n",
    "observations = simulator.corrupt(source_distribution)"
   ]
  },
  {
   "cell_type": "markdown",
   "metadata": {},
   "source": [
    "#### Definition of the source model\n",
    "- If the downstream analysis does not require explicit density evaluation under the source model, any generative model can be used and should be preferred over normalizing flows.\n",
    "    - Note however that normalizing flows may act as useful regularizers for continuous and smooth source distributions."
   ]
  },
  {
   "cell_type": "code",
   "execution_count": null,
   "metadata": {},
   "outputs": [],
   "source": [
    "density_evaluation_is_required = True\n",
    "\n",
    "if density_evaluation_is_required:\n",
    "    \"\"\"\n",
    "    This is a heavy model, lighter models are recommended when inference \n",
    "    is done in higher dimensions or on more data.\n",
    "    \"\"\"\n",
    "    source_model = UmnnMafFlow(nb_flow=6, \n",
    "                               nb_in=simulator.xdim, \n",
    "                               cond_in=0,\n",
    "                               hidden_derivative=[75, 75, 75], \n",
    "                               hidden_embedding=[75, 75, 75],\n",
    "                               embedding_s=10, \n",
    "                               nb_steps=20,\n",
    "                               device=device)\n",
    "else:\n",
    "    hidden_layer_dim = 100\n",
    "    input_noise_dim = simulator.xdim\n",
    "    source_model = nn.Sequential(\n",
    "                        nn.Linear(input_noise_dim, hidden_layer_dim),\n",
    "                        nn.ReLU(),\n",
    "                        nn.Linear(hidden_layer_dim, hidden_layer_dim),\n",
    "                        nn.BatchNorm1d(hidden_layer_dim),\n",
    "                        nn.ReLU(),\n",
    "                        nn.Linear(hidden_layer_dim, simulator.xdim)\n",
    "                        ).to(device)\n",
    "    \n",
    "optimizer = optim.Adam(source_model.parameters(), weight_decay=0.0, lr=1e-4)"
   ]
  },
  {
   "cell_type": "markdown",
   "metadata": {},
   "source": [
    "#### Inference"
   ]
  },
  {
   "cell_type": "code",
   "execution_count": null,
   "metadata": {},
   "outputs": [],
   "source": [
    "log_likelihood_fct = lambda y, x : surrogate.compute_ll(y, context=x)[0]\n",
    "\n",
    "estimator = McBiasedEstimator() # Choose an estimator in ['McBiasedEstimator', 'McUnbiasedEstimator']\n",
    "\n",
    "nb_epochs = 100\n",
    "nb_mc_integration_steps = 1024\n",
    "batch_size = 128\n",
    "early_stopping=True, # We do not recommend to do early_stopping with\n",
    "                     # the unbiased estimator which is quite noisy\n",
    "\n",
    "training_loss, validation_loss = estimator.infer(observations.to(device), \n",
    "                                                 source_model, \n",
    "                                                 optimizer, \n",
    "                                                 log_likelihood_fct, \n",
    "                                                 simulator.xdim,\n",
    "                                                 nb_epochs=nb_epochs, \n",
    "                                                 batch_size=batch_size, \n",
    "                                                 early_stopping=early_stopping,\n",
    "                                                 nb_mc_integration_steps=nb_mc_integration_steps)"
   ]
  },
  {
   "cell_type": "markdown",
   "metadata": {},
   "source": [
    "#### Assess the quality of the learned source distribution (the closer to 0.5, the better)"
   ]
  },
  {
   "cell_type": "code",
   "execution_count": null,
   "metadata": {},
   "outputs": [],
   "source": [
    "noise = GaussianDistribution.sample(10000, dim=simulator.xdim)\n",
    "\n",
    "# Assess the quality of the source model\n",
    "regenerated_source_data = source_model(noise.to(device)).data.cpu()\n",
    "regenerated_observations = simulator.corrupt(regenerated_source_data).data\n",
    "\n",
    "print('ROC AUC x-space:', compute_roc_auc(regenerated_source_data.numpy(), source_distribution.data.numpy()))\n",
    "print('ROC AUC y-space:', compute_roc_auc(regenerated_observations.numpy(), observations.data.numpy()))"
   ]
  }
 ],
 "metadata": {
  "kernelspec": {
   "display_name": "Python 3",
   "language": "python",
   "name": "python3"
  },
  "language_info": {
   "codemirror_mode": {
    "name": "ipython",
    "version": 3
   },
   "file_extension": ".py",
   "mimetype": "text/x-python",
   "name": "python",
   "nbconvert_exporter": "python",
   "pygments_lexer": "ipython3",
   "version": "3.8.6"
  }
 },
 "nbformat": 4,
 "nbformat_minor": 4
}
